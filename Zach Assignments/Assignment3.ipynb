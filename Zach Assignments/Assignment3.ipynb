{
 "cells": [
  {
   "cell_type": "code",
   "execution_count": 1,
   "id": "c4a5aa20-7781-40e3-8bf9-483dcb53095c",
   "metadata": {},
   "outputs": [],
   "source": [
    "from pyspark.sql.functions import broadcast , lit, split, count,col\n",
    "from pyspark.sql import functions as F\n",
    "from pyspark.sql import SparkSession\n",
    "from pyspark import StorageLevel\n",
    "import pandas as pd\n",
    "pd.set_option('display.max_rows', None)"
   ]
  },
  {
   "cell_type": "code",
   "execution_count": 2,
   "id": "17f25eb2-46f4-4ca4-b73a-9e9ac9e1a3d4",
   "metadata": {},
   "outputs": [
    {
     "name": "stderr",
     "output_type": "stream",
     "text": [
      "24/12/18 06:12:20 WARN SparkSession: Using an existing Spark session; only runtime SQL configurations will take effect.\n"
     ]
    }
   ],
   "source": [
    "spark = SparkSession.builder \\\n",
    ".appName(\"IcebergTableManagement\") \\\n",
    ".config(\"spark.sql.autoBroadcastJoinThreshold\", \"-1\")\\\n",
    ".config('spark.sql.sources.v2.bucketing.enabled','true') \\\n",
    ".config('spark.sql.sources.v2.bucketing.pushPartValues.enabled','true')\\\n",
    ".config('spark.sql.iceberg.planning.preserve-data-grouping','true')\\\n",
    ".config('spark.sql.requireAllClusterKeysForCoPartition','false')\\\n",
    ".config('spark.sql.sources.v2.bucketing.partiallyClusteredDistribution.enabled','true')\\\n",
    ".config(\"spark.executor.memory\", \"8g\")\\\n",
    ".config(\"spark.driver.memory\", \"8g\")\\\n",
    ".config(\"spark.sql.shuffle.partitions\", \"200\")\\\n",
    ".config(\"spark.sql.files.maxPartitionBytes\", \"134217728\")\\\n",
    ".config(\"spark.sql.autoBroadcastJoinThreshold\", \"-1\")\\\n",
    ".config(\"spark.dynamicAllocation.enabled\", \"true\")\\\n",
    ".config(\"spark.dynamicAllocation.minExecutors\", \"1\")\\\n",
    ".config(\"spark.dynamicAllocation.maxExecutors\", \"50\")\\\n",
    ".config(\"spark.sql.debug.maxToStringFields\",\"100\") \\\n",
    ".getOrCreate()"
   ]
  },
  {
   "cell_type": "code",
   "execution_count": 75,
   "id": "f7e7bb09-d6cd-4a49-a9b3-d93dc3ead0e7",
   "metadata": {},
   "outputs": [],
   "source": [
    "# notebooks/data/match_details.csv\n",
    "match_details_df = spark.read.option(\"header\",\"True\")\\\n",
    "                                .option(\"inferschema\",\"True\")\\\n",
    "                                .csv('data/match_details.csv')"
   ]
  },
  {
   "cell_type": "code",
   "execution_count": 77,
   "id": "910fb3ff-d15c-428f-9cd3-8b46439d586a",
   "metadata": {},
   "outputs": [],
   "source": [
    "matches_df = spark.read.option(\"header\",\"True\")\\\n",
    "                        .option(\"inferschema\",\"True\")\\\n",
    "                        .csv('data/matches.csv')\n"
   ]
  },
  {
   "cell_type": "code",
   "execution_count": 78,
   "id": "f0a3e1ac-d75b-49be-82b0-90a85270d9b3",
   "metadata": {},
   "outputs": [],
   "source": [
    "# notebooks/data/medals_matches_players.csv\n",
    "medals_matches_players_df = spark.read.option(\"header\",\"True\")\\\n",
    "                            .option(\"inferschema\",\"True\")\\\n",
    "                            .csv('data/medals_matches_players.csv')\n",
    "\n"
   ]
  },
  {
   "cell_type": "code",
   "execution_count": 79,
   "id": "4b0cc310-5bc9-4f26-9a89-8f0d00902e31",
   "metadata": {},
   "outputs": [],
   "source": [
    "# notebooks/data/medals.csv\n",
    "medals_df = spark.read.option(\"header\",\"True\")\\\n",
    "                    .option(\"inferschema\",\"True\")\\\n",
    "                    .csv('data/medals.csv')\n"
   ]
  },
  {
   "cell_type": "code",
   "execution_count": 80,
   "id": "c79bc7fd-2af7-4bc7-a226-68f933e965cb",
   "metadata": {},
   "outputs": [],
   "source": [
    "# notebooks/data/maps.csv\n",
    "maps_df = spark.read.option(\"header\",\"True\")\\\n",
    "                    .option(\"inferschema\",\"True\")\\\n",
    "                    .csv('data/maps.csv')\n"
   ]
  },
  {
   "cell_type": "code",
   "execution_count": 8,
   "id": "3a98150f-1f9e-4f94-a51e-688e648a0826",
   "metadata": {},
   "outputs": [
    {
     "data": {
      "text/plain": [
       "DataFrame[]"
      ]
     },
     "execution_count": 8,
     "metadata": {},
     "output_type": "execute_result"
    }
   ],
   "source": [
    "# create an iceberg table  games.medals\n",
    "spark.sql(\"DROP TABLE IF EXISTS games.medals\")\n",
    "medals_table = (\"\"\"CREATE TABLE IF NOT EXISTS games.medals(\n",
    "medal_id bigint,\n",
    "sprite_uri string,\n",
    "sprite_left int,\n",
    "sprite_top int,\n",
    "sprite_sheet_width int,\n",
    "sprite_sheet_height int,\n",
    "sprite_width int,\n",
    "sprite_height int,\n",
    "classification string,\n",
    "description string,\n",
    "name string,\n",
    "difficulty int\n",
    ")using ICEBERG\"\"\"\n",
    "               )\n",
    "spark.sql(medals_table)\n",
    "\n",
    "# create an iceberg table maps\n",
    "spark.sql(\"DROP TABLE IF EXISTS games.maps\")\n",
    "maps_table = \"\"\"CREATE TABLE IF NOT EXISTS games.maps( \n",
    "mapid string,\n",
    "name string,\n",
    "description string\n",
    ") using ICEBERG\"\"\"\n",
    "             \n",
    "spark.sql(maps_table)"
   ]
  },
  {
   "cell_type": "code",
   "execution_count": 9,
   "id": "027f298d-d48e-4787-9dc3-d2bb99d3ccd4",
   "metadata": {},
   "outputs": [
    {
     "name": "stderr",
     "output_type": "stream",
     "text": [
      "                                                                                \r"
     ]
    }
   ],
   "source": [
    "# load data into medals and maps table\n",
    "maps_df.write.mode(\"append\").saveAsTable(\"games.maps\")\n",
    "medals_df.write.mode(\"append\").saveAsTable(\"games.medals\")"
   ]
  },
  {
   "cell_type": "code",
   "execution_count": 10,
   "id": "dd9c48cd-364b-4afe-8bf3-5da8160fbd4f",
   "metadata": {},
   "outputs": [
    {
     "data": {
      "text/plain": [
       "DataFrame[]"
      ]
     },
     "execution_count": 10,
     "metadata": {},
     "output_type": "execute_result"
    }
   ],
   "source": [
    "# create an iceberg table match_details\n",
    "spark.sql(\"DROP TABLE IF EXISTS games.match_details\")\n",
    "match_details_table = \"\"\"CREATE TABLE IF NOT EXISTS games.match_details(\n",
    "match_id string,\n",
    "player_gamertag  string,\n",
    "previous_spartan_rank int,\n",
    "spartan_rank int,\n",
    "previous_total_xp int,\n",
    "total_xp int,\n",
    "previous_csr_tier int,\n",
    "previous_csr_designation int,\n",
    "previous_csr int,\n",
    "previous_csr_percent_to_next_tier int,\n",
    "previous_csr_rank int,\n",
    "current_csr_tier int,\n",
    "current_csr_designation int,\n",
    "current_csr int,\n",
    "current_csr_percent_to_next_tier int,\n",
    "current_csr_rank int,\n",
    "player_rank_on_team int,\n",
    "player_finished boolean,\n",
    "player_average_life string,\n",
    "player_total_kills int,\n",
    "player_total_headshots int,\n",
    "player_total_weapon_damage int,\n",
    "player_total_shots_landed int,\n",
    "player_total_melee_kills int,\n",
    "player_total_melee_damage double,\n",
    "player_total_assassinations int,\n",
    "player_total_ground_pound_kills int,\n",
    "player_total_shoulder_bash_kills int,\n",
    "player_total_grenade_damage double,\n",
    "player_total_power_weapon_damage double,\n",
    "player_total_power_weapon_grabs int,\n",
    "player_total_deaths int,\n",
    "player_total_assists int,\n",
    "player_total_grenade_kills int,\n",
    "did_win int,\n",
    "team_id int\n",
    ")using ICEBERG\n",
    "partitioned by (bucket(16,match_id))\n",
    "\"\"\"\n",
    "\n",
    "# create an iceberg table matches\n",
    "spark.sql(\"DROP TABLE IF EXISTS games.matches\")\n",
    "matches_table = \"\"\"CREATE TABLE IF NOT EXISTS games.matches(\n",
    "match_id string,\n",
    "mapid string,\n",
    "playlist_id string,\n",
    "completion_date timestamp\n",
    ")using ICEBERG\n",
    "partitioned by (bucket(16,match_id))\n",
    "\"\"\"\n",
    "# create an iceberg table medal_matches_players\n",
    "spark.sql(\"DROP TABLE IF EXISTS games.medal_matches_players\")\n",
    "medal_matches_players_table = \"\"\"CREATE TABLE IF NOT EXISTS games.medal_matches_players(\n",
    "match_id string,\n",
    "player_gamertag string,\n",
    "medal_id bigint,\n",
    "count int\n",
    ")using ICEBERG\n",
    "partitioned by (bucket(16,match_id))\"\"\"\n",
    "\n",
    "# execute the create statment\n",
    "spark.sql(match_details_table)\n",
    "spark.sql(matches_table)\n",
    "spark.sql(medal_matches_players_table)"
   ]
  },
  {
   "cell_type": "code",
   "execution_count": 11,
   "id": "5d3af455-8e7c-45b9-8f36-f11cc2330c8d",
   "metadata": {},
   "outputs": [
    {
     "name": "stderr",
     "output_type": "stream",
     "text": [
      "                                                                                \r"
     ]
    }
   ],
   "source": [
    "# load the created table with dataframes\n",
    "match_details_df.write.mode(\"append\").bucketBy(16,\"match_id\").saveAsTable(\"games.match_details\")\n"
   ]
  },
  {
   "cell_type": "code",
   "execution_count": 12,
   "id": "4b2b9131-1b86-4d09-9761-4be3b8ab0100",
   "metadata": {},
   "outputs": [],
   "source": [
    "distinct_date = matches_df.select(\"completion_date\").distinct().orderBy(\"completion_date\").collect()"
   ]
  },
  {
   "cell_type": "code",
   "execution_count": 13,
   "id": "371a09b7-9a9e-4305-8006-8254f77e645c",
   "metadata": {},
   "outputs": [],
   "source": [
    "\n",
    "for row in distinct_date:\n",
    "    date = row[\"completion_date\"] \n",
    "    filtered_matches_df = matches_df.select(\"match_id\",\"mapid\",\"playlist_id\",\"completion_date\").where(F.col(\"completion_date\") == F.lit(date))\n",
    "    optimized_matches_df = filtered_matches_df.repartition(16,\"match_id\").persist(StorageLevel.MEMORY_AND_DISK)\n",
    "    optimized_matches_df.write.mode(\"append\").bucketBy(16,\"match_id\").saveAsTable(\"games.matches\")"
   ]
  },
  {
   "cell_type": "code",
   "execution_count": 14,
   "id": "dded7ea9-ac41-42ce-b762-089117214226",
   "metadata": {},
   "outputs": [],
   "source": [
    "medals_matches_players_df.write.mode(\"append\").bucketBy(16,\"match_id\").saveAsTable(\"games.medal_matches_players\")"
   ]
  },
  {
   "cell_type": "code",
   "execution_count": 15,
   "id": "52aadf96-e14f-4c97-8aa2-0899735e4f9f",
   "metadata": {},
   "outputs": [],
   "source": [
    "# create a Joined dataframe \n",
    "# medals_matches_players_df.toPandas()\n",
    "# matches_df.alias('m')\\\n",
    "#             .join(match_details_df.alias('md'),matches_df.match_id == match_details_df.match_id,\"left\").explain(\"FORMATTED\")\n",
    "\n",
    "matches_join_detail_df = spark.table(\"games.matches\").alias(\"m\")\\\n",
    "            .join(spark.table(\"games.match_details\").alias(\"md\"),(F.col(\"m.match_id\") == F.col(\"md.match_id\")),\"left\")\\\n",
    "            .select(\"m.match_id\",\"m.mapid\",\"m.playlist_id\",\"md.player_total_kills\",\"md.player_gamertag\")\\\n",
    "            .repartition(16,\"m.match_id\")\n",
    "\n"
   ]
  },
  {
   "cell_type": "code",
   "execution_count": 16,
   "id": "6029f670-1fa0-43a7-9ff4-32c0876f2dd5",
   "metadata": {},
   "outputs": [],
   "source": [
    "match_final_df = matches_join_detail_df.alias(\"mjd\")\\\n",
    "        .join(spark.table(\"games.medal_matches_players\").alias(\"mmp\"),((F.col(\"mjd.match_id\") == F.col(\"mmp.match_id\")) & (F.col(\"mjd.player_gamertag\") == F.col(\"mmp.player_gamertag\"))),\"left\")\\\n",
    "        .select(\"mjd.match_id\",\"mjd.mapid\",\"mjd.playlist_id\",\"mmp.medal_id\",\"mjd.player_gamertag\",\"mjd.player_total_kills\") \n",
    "        "
   ]
  },
  {
   "cell_type": "code",
   "execution_count": 41,
   "id": "efb3396f-e943-45df-9747-caf1050b36ef",
   "metadata": {},
   "outputs": [],
   "source": [
    "final_match_map_joined_df = match_final_df.alias(\"mf\")\\\n",
    "                    .select(\"mf.match_id\",\"mf.playlist_id\",\"mf.mapid\",\"mf.player_gamertag\",\"mf.player_total_kills\").distinct()\\\n",
    "                    .join(broadcast(spark.table(\"games.maps\").alias(\"mp\")),(F.col(\"mp.mapid\") == F.col(\"mf.mapid\")),\"left\")\\\n",
    "                    .select(\"mf.match_id\",\\\n",
    "                            \"mf.playlist_id\",\\\n",
    "                            \"mf.mapid\",\\\n",
    "                            \"mf.player_gamertag\",\\\n",
    "                            \"mf.player_total_kills\",\\\n",
    "                            F.col(\"mp.name\").alias(\"mapName\"))"
   ]
  },
  {
   "cell_type": "code",
   "execution_count": 60,
   "id": "c2903e18-a3b1-4883-b185-75d903cd5569",
   "metadata": {
    "scrolled": true
   },
   "outputs": [
    {
     "name": "stderr",
     "output_type": "stream",
     "text": [
      "[Stage 2307:=====================================>                (11 + 5) / 16]\r"
     ]
    },
    {
     "name": "stdout",
     "output_type": "stream",
     "text": [
      "+---------------+-----------------+\n",
      "|player_gamertag|avg_kill_per_game|\n",
      "+---------------+-----------------+\n",
      "|   gimpinator14|            109.0|\n",
      "+---------------+-----------------+\n",
      "\n"
     ]
    },
    {
     "name": "stderr",
     "output_type": "stream",
     "text": [
      "                                                                                \r"
     ]
    }
   ],
   "source": [
    "# which player averages the most kills per game\n",
    "most_avg_kill_per_game = final_match_map_joined_df.alias(\"fmmj\")\\\n",
    "        .groupBy(\"player_gamertag\")\\\n",
    "        .agg(F.avg(\"fmmj.player_total_kills\").alias(\"avg_kill_per_game\"))\\\n",
    "        .orderBy(\"avg_kill_per_game\",ascending = False)\\\n",
    "        .limit(1)\n",
    "most_avg_kill_per_game.show()"
   ]
  },
  {
   "cell_type": "code",
   "execution_count": 66,
   "id": "00cc9786-764c-4a28-bd68-f44e28a9dcb0",
   "metadata": {},
   "outputs": [
    {
     "name": "stderr",
     "output_type": "stream",
     "text": [
      "[Stage 2335:=====================================>                (11 + 5) / 16]\r"
     ]
    },
    {
     "name": "stdout",
     "output_type": "stream",
     "text": [
      "+--------------------+------------+\n",
      "|         playlist_id|played_count|\n",
      "+--------------------+------------+\n",
      "|f72e0ef0-7c4a-430...|       60561|\n",
      "+--------------------+------------+\n",
      "\n"
     ]
    },
    {
     "name": "stderr",
     "output_type": "stream",
     "text": [
      "                                                                                \r"
     ]
    }
   ],
   "source": [
    "# Which playlist gets played the most?\n",
    "most_played_playlist = final_match_map_joined_df.alias(\"fmmj\")\\\n",
    "                                .groupBy(\"playlist_id\")\\\n",
    "                                .agg(count(\"playlist_id\").alias(\"played_count\"))\\\n",
    "                                .orderBy(F.col(\"played_count\").desc()).limit(1)\n",
    "most_played_playlist.show()"
   ]
  },
  {
   "cell_type": "code",
   "execution_count": 62,
   "id": "a82e4caf-d8d9-4549-83ca-11112d91f007",
   "metadata": {},
   "outputs": [
    {
     "name": "stderr",
     "output_type": "stream",
     "text": [
      "[Stage 2314:=====================================>                (11 + 5) / 16]\r"
     ]
    },
    {
     "name": "stdout",
     "output_type": "stream",
     "text": [
      "+--------------+----------------+\n",
      "|       mapName|map_played_count|\n",
      "+--------------+----------------+\n",
      "|Breakout Arena|           55539|\n",
      "+--------------+----------------+\n",
      "\n"
     ]
    },
    {
     "name": "stderr",
     "output_type": "stream",
     "text": [
      "                                                                                \r"
     ]
    }
   ],
   "source": [
    "#  Which map gets played the most?\n",
    "most_map_played = final_match_map_joined_df.alias(\"fmmj\")\\\n",
    "                        .groupBy(\"mapName\")\\\n",
    "                        .agg(count(\"match_id\").alias(\"map_played_count\"))\\\n",
    "                        .orderBy(F.col(\"map_played_count\").desc()).limit(1)\n",
    "most_map_played.show()"
   ]
  },
  {
   "cell_type": "code",
   "execution_count": 72,
   "id": "cac94b6f-87a8-47c7-ab9f-ad5668d62ac1",
   "metadata": {},
   "outputs": [],
   "source": [
    "# dataframe to join killingspree medall and then join with Map\n",
    "map_medal = match_final_df.alias(\"mf\")\\\n",
    "            .join(broadcast(spark.table(\"games.medals\").alias(\"mdl\").filter(F.col(\"mdl.name\") == \"Killing Spree\")),\\\n",
    "                F.col(\"mdl.medal_id\") == F.col(\"mf.medal_id\"),\"inner\")\\\n",
    "            .join(broadcast(spark.table(\"games.maps\").alias(\"m\")),F.col(\"mf.mapid\") == F.col(\"m.mapid\"),\"inner\")\\\n",
    "            .select(\"mf.match_id\",\\\n",
    "                    F.col(\"m.name\").alias(\"mapName\"),\\\n",
    "                    F.col(\"mdl.name\").alias(\"medalName\"))\n"
   ]
  },
  {
   "cell_type": "code",
   "execution_count": 74,
   "id": "b9a7571b-9c45-476c-932a-3136d7760564",
   "metadata": {},
   "outputs": [
    {
     "name": "stderr",
     "output_type": "stream",
     "text": [
      "[Stage 2361:=====================================>                (11 + 5) / 16]\r"
     ]
    },
    {
     "name": "stdout",
     "output_type": "stream",
     "text": [
      "+--------------+-----------+\n",
      "|       mapName|medal_count|\n",
      "+--------------+-----------+\n",
      "|Breakout Arena|       6553|\n",
      "+--------------+-----------+\n",
      "\n"
     ]
    },
    {
     "name": "stderr",
     "output_type": "stream",
     "text": [
      "                                                                                \r"
     ]
    }
   ],
   "source": [
    "# Which map do players get the most Killing Spree medals on?\n",
    "most_spree_medal_map = map_medal.alias(\"mm\")\\\n",
    "                        .groupBy(\"mapName\")\\\n",
    "                        .agg(count(\"medalName\").alias(\"medal_count\"))\\\n",
    "                        .orderBy(F.col(\"medal_count\").desc()).limit(1)\n",
    "most_spree_medal_map.show()"
   ]
  },
  {
   "cell_type": "code",
   "execution_count": 123,
   "id": "fe0bd34f-404b-4870-a475-3de0c981694d",
   "metadata": {},
   "outputs": [
    {
     "name": "stderr",
     "output_type": "stream",
     "text": [
      "                                                                                \r"
     ]
    }
   ],
   "source": [
    "spark.sql(\"drop table games.joined_table\")\n",
    "match_final_df.sortWithinPartitions(\"mapid\")\\\n",
    "                        .write.format(\"iceberg\")\\\n",
    "                        .mode(\"append\")\\\n",
    "                        .saveAsTable(\"games.joined_table\")\n",
    "\n"
   ]
  },
  {
   "cell_type": "code",
   "execution_count": 124,
   "id": "859cd493-1fb1-4dad-a64e-af3351878a0f",
   "metadata": {},
   "outputs": [
    {
     "name": "stdout",
     "output_type": "stream",
     "text": [
      "+---------------+\n",
      "|file_size_in_mb|\n",
      "+---------------+\n",
      "|           7.22|\n",
      "+---------------+\n",
      "\n"
     ]
    }
   ],
   "source": [
    "spark.sql(\"select round(sum(file_size_in_bytes)/ (1024*1024),2)  as file_size_in_mb from games.joined_table.files\").show()"
   ]
  },
  {
   "cell_type": "code",
   "execution_count": null,
   "id": "46b0c65b-8a26-4ca0-979f-aee86450f3af",
   "metadata": {},
   "outputs": [],
   "source": [
    "# playlist_id = 7585821 -->7.23 mb\n",
    "# mapid =7572931 --> 7.22 mb\n",
    "# medal_id = 8476548 --> 8.08 mb\n",
    "# match_id = 7913664 --> 7.55 mb"
   ]
  }
 ],
 "metadata": {
  "kernelspec": {
   "display_name": "Python 3 (ipykernel)",
   "language": "python",
   "name": "python3"
  },
  "language_info": {
   "codemirror_mode": {
    "name": "ipython",
    "version": 3
   },
   "file_extension": ".py",
   "mimetype": "text/x-python",
   "name": "python",
   "nbconvert_exporter": "python",
   "pygments_lexer": "ipython3",
   "version": "3.9.18"
  }
 },
 "nbformat": 4,
 "nbformat_minor": 5
}
